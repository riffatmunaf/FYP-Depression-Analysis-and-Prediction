{
 "cells": [
  {
   "cell_type": "code",
   "execution_count": 5,
   "id": "060c0a23-be99-43ae-96da-787182a474c2",
   "metadata": {},
   "outputs": [
    {
     "name": "stderr",
     "output_type": "stream",
     "text": [
      "  WARNING: Failed to remove contents in a temporary directory 'C:\\Users\\ATAUMAR\\AppData\\Local\\Programs\\Orange\\Lib\\site-packages\\~umpy.libs'.\n",
      "  You can safely remove it manually.\n",
      "  WARNING: Failed to remove contents in a temporary directory 'C:\\Users\\ATAUMAR\\AppData\\Local\\Programs\\Orange\\Lib\\site-packages\\~umpy'.\n",
      "  You can safely remove it manually.\n"
     ]
    }
   ],
   "source": [
    "# Installing the libraries\n",
    "!pip install pandas -q\n",
    "!pip install tabulate -q\n",
    "!pip install seaborn -q\n",
    "!pip install matplotlib -q\n",
    "!pip install scikit-learn -q"
   ]
  },
  {
   "cell_type": "markdown",
   "id": "884fa32b-6ac1-4670-9188-7254a5870ab7",
   "metadata": {},
   "source": [
    "# Data Load"
   ]
  },
  {
   "cell_type": "code",
   "execution_count": 1,
   "id": "6c396a42-f205-4560-bb50-3b17d05d2ca3",
   "metadata": {},
   "outputs": [
    {
     "data": {
      "text/html": [
       "<div>\n",
       "<style scoped>\n",
       "    .dataframe tbody tr th:only-of-type {\n",
       "        vertical-align: middle;\n",
       "    }\n",
       "\n",
       "    .dataframe tbody tr th {\n",
       "        vertical-align: top;\n",
       "    }\n",
       "\n",
       "    .dataframe thead th {\n",
       "        text-align: right;\n",
       "    }\n",
       "</style>\n",
       "<table border=\"1\" class=\"dataframe\">\n",
       "  <thead>\n",
       "    <tr style=\"text-align: right;\">\n",
       "      <th></th>\n",
       "      <th>Gender</th>\n",
       "      <th>Age</th>\n",
       "      <th>City</th>\n",
       "      <th>Working Professional or Student</th>\n",
       "      <th>Profession</th>\n",
       "      <th>Academic Pressure</th>\n",
       "      <th>Work Pressure</th>\n",
       "      <th>CGPA</th>\n",
       "      <th>Study Satisfaction</th>\n",
       "      <th>Job Satisfaction</th>\n",
       "      <th>Sleep Duration</th>\n",
       "      <th>Dietary Habits</th>\n",
       "      <th>Degree</th>\n",
       "      <th>Have you ever had suicidal thoughts ?</th>\n",
       "      <th>Work/Study Hours</th>\n",
       "      <th>Financial Stress</th>\n",
       "      <th>Family History of Mental Illness</th>\n",
       "      <th>Depression</th>\n",
       "    </tr>\n",
       "  </thead>\n",
       "  <tbody>\n",
       "    <tr>\n",
       "      <th>0</th>\n",
       "      <td>Female</td>\n",
       "      <td>37</td>\n",
       "      <td>Ghaziabad</td>\n",
       "      <td>Working Professional</td>\n",
       "      <td>Teacher</td>\n",
       "      <td>NaN</td>\n",
       "      <td>2.0</td>\n",
       "      <td>NaN</td>\n",
       "      <td>NaN</td>\n",
       "      <td>4.0</td>\n",
       "      <td>7-8 hours</td>\n",
       "      <td>Moderate</td>\n",
       "      <td>MA</td>\n",
       "      <td>No</td>\n",
       "      <td>6</td>\n",
       "      <td>2</td>\n",
       "      <td>No</td>\n",
       "      <td>No</td>\n",
       "    </tr>\n",
       "    <tr>\n",
       "      <th>1</th>\n",
       "      <td>Male</td>\n",
       "      <td>60</td>\n",
       "      <td>Kalyan</td>\n",
       "      <td>Working Professional</td>\n",
       "      <td>Financial Analyst</td>\n",
       "      <td>NaN</td>\n",
       "      <td>4.0</td>\n",
       "      <td>NaN</td>\n",
       "      <td>NaN</td>\n",
       "      <td>3.0</td>\n",
       "      <td>5-6 hours</td>\n",
       "      <td>Unhealthy</td>\n",
       "      <td>B.Com</td>\n",
       "      <td>Yes</td>\n",
       "      <td>0</td>\n",
       "      <td>4</td>\n",
       "      <td>Yes</td>\n",
       "      <td>No</td>\n",
       "    </tr>\n",
       "    <tr>\n",
       "      <th>2</th>\n",
       "      <td>Female</td>\n",
       "      <td>42</td>\n",
       "      <td>Bhopal</td>\n",
       "      <td>Working Professional</td>\n",
       "      <td>Teacher</td>\n",
       "      <td>NaN</td>\n",
       "      <td>2.0</td>\n",
       "      <td>NaN</td>\n",
       "      <td>NaN</td>\n",
       "      <td>3.0</td>\n",
       "      <td>5-6 hours</td>\n",
       "      <td>Moderate</td>\n",
       "      <td>M.Com</td>\n",
       "      <td>No</td>\n",
       "      <td>0</td>\n",
       "      <td>2</td>\n",
       "      <td>No</td>\n",
       "      <td>No</td>\n",
       "    </tr>\n",
       "    <tr>\n",
       "      <th>3</th>\n",
       "      <td>Female</td>\n",
       "      <td>44</td>\n",
       "      <td>Thane</td>\n",
       "      <td>Working Professional</td>\n",
       "      <td>Teacher</td>\n",
       "      <td>NaN</td>\n",
       "      <td>3.0</td>\n",
       "      <td>NaN</td>\n",
       "      <td>NaN</td>\n",
       "      <td>5.0</td>\n",
       "      <td>7-8 hours</td>\n",
       "      <td>Healthy</td>\n",
       "      <td>MD</td>\n",
       "      <td>Yes</td>\n",
       "      <td>1</td>\n",
       "      <td>2</td>\n",
       "      <td>Yes</td>\n",
       "      <td>No</td>\n",
       "    </tr>\n",
       "    <tr>\n",
       "      <th>4</th>\n",
       "      <td>Male</td>\n",
       "      <td>48</td>\n",
       "      <td>Indore</td>\n",
       "      <td>Working Professional</td>\n",
       "      <td>UX/UI Designer</td>\n",
       "      <td>NaN</td>\n",
       "      <td>4.0</td>\n",
       "      <td>NaN</td>\n",
       "      <td>NaN</td>\n",
       "      <td>3.0</td>\n",
       "      <td>7-8 hours</td>\n",
       "      <td>Moderate</td>\n",
       "      <td>BE</td>\n",
       "      <td>Yes</td>\n",
       "      <td>6</td>\n",
       "      <td>5</td>\n",
       "      <td>Yes</td>\n",
       "      <td>No</td>\n",
       "    </tr>\n",
       "  </tbody>\n",
       "</table>\n",
       "</div>"
      ],
      "text/plain": [
       "   Gender  Age       City Working Professional or Student         Profession  \\\n",
       "0  Female   37  Ghaziabad            Working Professional            Teacher   \n",
       "1    Male   60     Kalyan            Working Professional  Financial Analyst   \n",
       "2  Female   42     Bhopal            Working Professional            Teacher   \n",
       "3  Female   44      Thane            Working Professional            Teacher   \n",
       "4    Male   48     Indore            Working Professional     UX/UI Designer   \n",
       "\n",
       "   Academic Pressure  Work Pressure  CGPA  Study Satisfaction  \\\n",
       "0                NaN            2.0   NaN                 NaN   \n",
       "1                NaN            4.0   NaN                 NaN   \n",
       "2                NaN            2.0   NaN                 NaN   \n",
       "3                NaN            3.0   NaN                 NaN   \n",
       "4                NaN            4.0   NaN                 NaN   \n",
       "\n",
       "   Job Satisfaction Sleep Duration Dietary Habits Degree  \\\n",
       "0               4.0      7-8 hours       Moderate     MA   \n",
       "1               3.0      5-6 hours      Unhealthy  B.Com   \n",
       "2               3.0      5-6 hours       Moderate  M.Com   \n",
       "3               5.0      7-8 hours        Healthy     MD   \n",
       "4               3.0      7-8 hours       Moderate     BE   \n",
       "\n",
       "  Have you ever had suicidal thoughts ?  Work/Study Hours  Financial Stress  \\\n",
       "0                                    No                 6                 2   \n",
       "1                                   Yes                 0                 4   \n",
       "2                                    No                 0                 2   \n",
       "3                                   Yes                 1                 2   \n",
       "4                                   Yes                 6                 5   \n",
       "\n",
       "  Family History of Mental Illness Depression  \n",
       "0                               No         No  \n",
       "1                              Yes         No  \n",
       "2                               No         No  \n",
       "3                              Yes         No  \n",
       "4                              Yes         No  "
      ]
     },
     "execution_count": 1,
     "metadata": {},
     "output_type": "execute_result"
    }
   ],
   "source": [
    "import pandas as pd\n",
    "\n",
    "# Loading the dataset\n",
    "file_path = \"../Dataset/final_depression_dataset.csv\"\n",
    "df = pd.read_csv(file_path)\n",
    "df.head()"
   ]
  },
  {
   "cell_type": "markdown",
   "id": "1fb96877-7ea5-402d-a136-3556d03862f3",
   "metadata": {},
   "source": [
    "# Basic Data Exploration"
   ]
  },
  {
   "cell_type": "code",
   "execution_count": 1,
   "id": "1b978edb-fe5f-4f71-8fa5-fff8d03cb4d1",
   "metadata": {},
   "outputs": [],
   "source": [
    "from matplotlib import rcParams\n",
    "\n",
    "dpi = 200\n",
    "maxpix = 670\n",
    "width = maxpix / dpi\n",
    "rcParams.update({\n",
    "    'axes.labelsize': 'x-large',\n",
    "    'axes.titlesize': 'large',\n",
    "    'xtick.labelsize': 'x-large',\n",
    "    'ytick.labelsize': 'x-large',\n",
    "    'legend.fontsize': 'x-small',\n",
    "    'legend.frameon': False,\n",
    "    'font.serif': ['Computer Modern', 'Helvetica', 'Arial', 'Tahoma', 'Lucida Grande', 'DejaVu Sans'],\n",
    "    'font.family': 'serif',\n",
    "    'mathtext.fontset': 'cm',\n",
    "    'figure.figsize': [0.4*width, 0.3*width],\n",
    "    'figure.dpi': dpi,\n",
    "    'text.color': \"black\",\n",
    "    'axes.labelcolor': \"black\",\n",
    "    'axes.facecolor': 'white',\n",
    "    'xtick.color': 'black',\n",
    "    'ytick.color': 'black',\n",
    "    'figure.facecolor': 'none',\n",
    "    'lines.linewidth': .75,\n",
    "    'xtick.top': True,\n",
    "    'ytick.right': True,\n",
    "    'xtick.minor.visible': True,\n",
    "    'ytick.minor.visible': True\n",
    "})"
   ]
  },
  {
   "cell_type": "code",
   "execution_count": 7,
   "id": "aeb478ae-f14c-4dd7-8180-a89017c6fa1c",
   "metadata": {},
   "outputs": [
    {
     "name": "stdout",
     "output_type": "stream",
     "text": [
      "Number of surveys: 2556\n",
      "Number of features/columns: 18\n",
      "Number of Depressed people: 455\n",
      "Number of Not Depressed people: 2101\n"
     ]
    },
    {
     "data": {
      "image/png": "[encoded data removed]",
      "text/plain": [
       "<Figure size 800x600 with 1 Axes>"
      ]
     },
     "metadata": {},
     "output_type": "display_data"
    }
   ],
   "source": [
    "import matplotlib.pyplot as plt\n",
    "\n",
    "def explore_dataset_with_plot(df):\n",
    "    \"\"\"\n",
    "    Function to explore the dataset.\n",
    "    Prints the number of surveys, number of features, and counts of depressed and non-depressed individuals.\n",
    "    Additionally, plots a pie chart of the depression counts.\n",
    "    \"\"\"\n",
    "    num_surveys = df.shape[0]\n",
    "    num_features = df.shape[1]\n",
    "    num_depressed = df[df['Depression'] == 'Yes'].shape[0]\n",
    "    num_not_depressed = df[df['Depression'] == 'No'].shape[0]\n",
    "\n",
    "    print(f\"Number of surveys: {num_surveys}\")\n",
    "    print(f\"Number of features/columns: {num_features}\")\n",
    "    print(f\"Number of Depressed people: {num_depressed}\")\n",
    "    print(f\"Number of Not Depressed people: {num_not_depressed}\")\n",
    "\n",
    "    # Pie chart\n",
    "    labels = ['Not Depressed', 'Depressed']\n",
    "    sizes = [num_not_depressed, num_depressed]\n",
    "    colors = ['green', 'red']\n",
    "    explode = (0, 0.1)\n",
    "\n",
    "    plt.figure(figsize=(8, 6))\n",
    "    plt.pie(sizes, explode=explode, labels=labels, colors=colors, autopct='%1.1f%%', shadow=True, startangle=140)\n",
    "    plt.title('Distribution of Depression Status in the Dataset')\n",
    "    plt.show()\n",
    "\n",
    "explore_dataset_with_plot(df)"
   ]
  },
  {
   "cell_type": "code",
   "execution_count": 15,
   "id": "28cc7d82-5233-40ad-b179-01c643b52d8c",
   "metadata": {},
   "outputs": [
    {
     "data": {
      "text/plain": [
       "Male      1333\n",
       "Female    1223\n",
       "Name: Gender, dtype: int64"
      ]
     },
     "execution_count": 15,
     "metadata": {},
     "output_type": "execute_result"
    }
   ],
   "source": [
    "column_name = \"Gender\"\n",
    "df[column_name].value_counts()"
   ]
  },
  {
   "cell_type": "code",
   "execution_count": 19,
   "id": "55078bbb-bfc8-4fb0-97a8-a943d050b136",
   "metadata": {},
   "outputs": [
    {
     "data": {
      "text/plain": [
       "Gender  Depression\n",
       "Female  No            1009\n",
       "        Yes            214\n",
       "Male    No            1092\n",
       "        Yes            241\n",
       "Name: Depression, dtype: int64"
      ]
     },
     "execution_count": 19,
     "metadata": {},
     "output_type": "execute_result"
    }
   ],
   "source": [
    "df.groupby(column_name)['Depression'].value_counts()"
   ]
  },
  {
   "cell_type": "code",
   "execution_count": 21,
   "id": "73184d2c-37e2-4f2a-b5a2-cda4d7915eb1",
   "metadata": {},
   "outputs": [
    {
     "data": {
      "text/plain": [
       "2.6"
      ]
     },
     "execution_count": 21,
     "metadata": {},
     "output_type": "execute_result"
    }
   ],
   "source": [
    "52*0.05"
   ]
  }
 ],
 "metadata": {
  "kernelspec": {
   "display_name": "base",
   "language": "python",
   "name": "python3"
  },
  "language_info": {
   "codemirror_mode": {
    "name": "ipython",
    "version": 3
   },
   "file_extension": ".py",
   "mimetype": "text/x-python",
   "name": "python",
   "nbconvert_exporter": "python",
   "pygments_lexer": "ipython3",
   "version": "3.12.4"
  }
 },
 "nbformat": 4,
 "nbformat_minor": 5
}
